{
 "cells": [
  {
   "cell_type": "code",
   "execution_count": 1,
   "id": "72b0932b",
   "metadata": {},
   "outputs": [],
   "source": [
    "# import cv2\n",
    "# import threading\n",
    "# from deepface import DeepFace"
   ]
  },
  {
   "cell_type": "code",
   "execution_count": 2,
   "id": "c7f74e0b",
   "metadata": {},
   "outputs": [],
   "source": [
    "# cam = cv2.VideoCapture(0,cv2.CAP_DSHOW)\n",
    "# cam.set(cv2.CAP_PROP_FRAME_WIDTH,640)\n",
    "# cam.set(cv2.CAP_PROP_FRAME_HEIGHT,480)\n",
    "\n",
    "# counter = 0\n",
    "\n",
    "# face_match = False\n",
    "\n",
    "# reference_img = cv2.imread(\"ref.jpg\")\n",
    "\n",
    "# def check_face(frame):\n",
    "#     global face_match\n",
    "#     try:\n",
    "#         if DeepFace.verify(frame, reference_img.copy())['verified']:\n",
    "#             face_match = True\n",
    "#         else:\n",
    "#             face_match = False\n",
    "#     except ValueError:\n",
    "#         face_match = False\n",
    "\n",
    "# while True:\n",
    "#     ret,frame = cam.read()\n",
    "#     if ret:\n",
    "#         if counter%30 == 0:\n",
    "#             try:\n",
    "#                 threading.Thread(target=check_face,args = (frame.copy(),)).start()\n",
    "#             except ValueError:\n",
    "#                 pass\n",
    "#         counter += 1\n",
    "        \n",
    "#         if face_match:\n",
    "#             cv2.putText(frame,\"Match!\",(20,450),cv2.FONT_HERSHEY_SIMPLEX,2,(0,255,0),3)\n",
    "        \n",
    "#         else:\n",
    "#             cv2.putText(frame,\"No Match!\",(20,450),cv2.FONT_HERSHEY_SIMPLEX,2,(0,0,255),3)\n",
    "            \n",
    "#         cv2.imshow('web_cam',frame)\n",
    "        \n",
    "    \n",
    "#     key = cv2.waitKey(1)\n",
    "#     if key == ord(\"n\"):\n",
    "#         break\n",
    "# cv2.destroyAllWindows()\n"
   ]
  },
  {
   "cell_type": "code",
   "execution_count": null,
   "id": "f49f483c",
   "metadata": {},
   "outputs": [],
   "source": []
  },
  {
   "cell_type": "code",
   "execution_count": null,
   "id": "9b912a26",
   "metadata": {},
   "outputs": [],
   "source": []
  },
  {
   "cell_type": "code",
   "execution_count": null,
   "id": "be46ce54",
   "metadata": {},
   "outputs": [],
   "source": []
  },
  {
   "cell_type": "code",
   "execution_count": null,
   "id": "ac312bb2",
   "metadata": {},
   "outputs": [],
   "source": []
  },
  {
   "cell_type": "code",
   "execution_count": null,
   "id": "3d5fd6f3",
   "metadata": {},
   "outputs": [],
   "source": []
  },
  {
   "cell_type": "code",
   "execution_count": 2,
   "id": "aaeafc23",
   "metadata": {},
   "outputs": [
    {
     "name": "stdout",
     "output_type": "stream",
     "text": [
      "2 encoding images found.\n",
      "Encoding images loaded\n"
     ]
    }
   ],
   "source": [
    "import cv2\n",
    "from simple_facerec import SimpleFacerec\n",
    "\n",
    "# Encode faces from a folder\n",
    "sfr = SimpleFacerec()\n",
    "sfr.load_encoding_images(\"images/\")\n",
    "\n",
    "# Load Camera\n",
    "cap = cv2.VideoCapture(0)\n",
    "\n",
    "\n",
    "while True:\n",
    "    ret, frame = cap.read()\n",
    "\n",
    "    # Detect Faces\n",
    "    if ret == True: \n",
    "        \n",
    "        face_locations, face_names = sfr.detect_known_faces(frame)\n",
    "        for face_loc, name in zip(face_locations, face_names):\n",
    "            y1, x2, y2, x1 = face_loc[0], face_loc[1], face_loc[2], face_loc[3]\n",
    "\n",
    "            cv2.putText(frame, name,(x1, y1 - 10), cv2.FONT_HERSHEY_DUPLEX, 1, (0, 0, 200), 2)\n",
    "            cv2.rectangle(frame, (x1, y1), (x2, y2), (0, 0, 200), 4)\n",
    "\n",
    "        cv2.imshow(\"Frame\", frame)\n",
    "        if cv2.waitKey(1) == ord(\"n\"):\n",
    "            break\n",
    "            \n",
    "cap.release()\n",
    "cv2.destroyAllWindows()"
   ]
  },
  {
   "cell_type": "code",
   "execution_count": null,
   "id": "1e3aa987",
   "metadata": {},
   "outputs": [],
   "source": []
  }
 ],
 "metadata": {
  "kernelspec": {
   "display_name": "fypenv",
   "language": "python",
   "name": "fypenv"
  },
  "language_info": {
   "codemirror_mode": {
    "name": "ipython",
    "version": 3
   },
   "file_extension": ".py",
   "mimetype": "text/x-python",
   "name": "python",
   "nbconvert_exporter": "python",
   "pygments_lexer": "ipython3",
   "version": "3.11.5"
  }
 },
 "nbformat": 4,
 "nbformat_minor": 5
}
